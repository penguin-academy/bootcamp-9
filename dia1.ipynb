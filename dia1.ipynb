{
 "cells": [
  {
   "cell_type": "markdown",
   "metadata": {},
   "source": [
    "# Saludando con Python"
   ]
  },
  {
   "cell_type": "code",
   "execution_count": 1,
   "metadata": {},
   "outputs": [
    {
     "name": "stdout",
     "output_type": "stream",
     "text": [
      "Hola mundo!\n"
     ]
    }
   ],
   "source": [
    "print(\"Hola mundo!\")"
   ]
  },
  {
   "cell_type": "markdown",
   "metadata": {},
   "source": [
    "# Variables"
   ]
  },
  {
   "cell_type": "code",
   "execution_count": 6,
   "metadata": {},
   "outputs": [
    {
     "name": "stdout",
     "output_type": "stream",
     "text": [
      "2000\n"
     ]
    }
   ],
   "source": [
    "saludo = \"2000\"\n",
    "\n",
    "print(saludo)"
   ]
  },
  {
   "cell_type": "markdown",
   "metadata": {},
   "source": [
    "# Tipos de datos"
   ]
  },
  {
   "cell_type": "code",
   "execution_count": 12,
   "metadata": {},
   "outputs": [
    {
     "name": "stdout",
     "output_type": "stream",
     "text": [
      "24\n",
      "0\n",
      "36\n",
      "5.5\n"
     ]
    }
   ],
   "source": [
    "# Esta es una nota\n",
    "saludo = \"maitei\" # Texto -> string (str)\n",
    "\n",
    "cantidad = 101 # Número -> integer (int)\n",
    "\n",
    "pi = 3.14 # Número decimal -> float (float)\n",
    "\n",
    "# Suma\n",
    "print(7 + 8 + 9)\n",
    "\n",
    "# Resta\n",
    "print(10 - 10 + 20)\n",
    "\n",
    "# Multiplicacion\n",
    "print(12 * 3)\n",
    "\n",
    "# División\n",
    "print(11 / 2)"
   ]
  },
  {
   "cell_type": "markdown",
   "metadata": {},
   "source": [
    "## Challenge 🤺\n",
    "\n",
    "1. Suma: asignar dos números en dos variables diferentes `cantidad_de_manzanas` y `cantidad_de_naranjas`. Luego sumar ambas variables en `cantidad_de_frutas`. Imprimir la variable.\n",
    "\n",
    "2. Resta: asignar un valor numérico a la variable `frutas_comidas`. Luego, asignar la resta entre `cantidad_de_frutas` y `frutas_comidas` a la variable `frutas_restantes`. Imprimir la última variable."
   ]
  },
  {
   "cell_type": "markdown",
   "metadata": {},
   "source": [
    "# Solución de Silvi"
   ]
  },
  {
   "cell_type": "code",
   "execution_count": 13,
   "metadata": {},
   "outputs": [
    {
     "name": "stdout",
     "output_type": "stream",
     "text": [
      "la cantidad restante de frutas es: 8 frutas\n",
      "las frutas restantes son: 3 frutas\n"
     ]
    }
   ],
   "source": [
    "cantidad_de_manzanas = 6\n",
    "cantidad_de_naranjas = 2\n",
    "\n",
    "cantidad_de_frutas = cantidad_de_manzanas + cantidad_de_naranjas\n",
    "print(\"la cantidad restante de frutas es:\", cantidad_de_frutas , \"frutas\")\n",
    "\n",
    "frutas_comidas = 5\n",
    "\n",
    "frutas_restantes = cantidad_de_frutas - frutas_comidas\n",
    "print(\"las frutas restantes son:\", frutas_restantes ,\"frutas\")"
   ]
  },
  {
   "cell_type": "markdown",
   "metadata": {},
   "source": [
    "# Solución de Kou"
   ]
  },
  {
   "cell_type": "code",
   "execution_count": 14,
   "metadata": {},
   "outputs": [
    {
     "name": "stdout",
     "output_type": "stream",
     "text": [
      "cantidad de frutas : 26\n",
      "Cantidad de frutas restantes: 19\n"
     ]
    }
   ],
   "source": [
    "cantidad_de_manzanas = 11\n",
    "cantidad_de_naranjas = 15\n",
    "cantidad_de_frutas = cantidad_de_manzanas + cantidad_de_naranjas\n",
    "print(\"cantidad de frutas :\", cantidad_de_frutas)\n",
    "\n",
    "cantidad_comidas = 7\n",
    "comida_restante = print(\"Cantidad de frutas restantes:\", cantidad_de_frutas - cantidad_comidas)"
   ]
  },
  {
   "cell_type": "markdown",
   "metadata": {},
   "source": [
    "# Jugando con texto"
   ]
  },
  {
   "cell_type": "code",
   "execution_count": 30,
   "metadata": {},
   "outputs": [
    {
     "name": "stdout",
     "output_type": "stream",
     "text": [
      "20.0\n",
      "Esto es un texto 'string' otro texto jaja\n"
     ]
    }
   ],
   "source": [
    "nuestro_texto = \"Esto es un texto 'string'\"\n",
    "\n",
    "nuestro_otro_texto = \"otro texto jaja\"\n",
    "\n",
    "texto_completo = nuestro_texto + ' ' + nuestro_otro_texto\n",
    "\n",
    "print(float(20))\n",
    "\n",
    "print(texto_completo)\n",
    "# print(nuestro_texto, nuestro_otro_texto)"
   ]
  },
  {
   "cell_type": "markdown",
   "metadata": {},
   "source": [
    "## Challenge 🤺\n",
    "\n",
    "1. Asignar el nombre y el apellido de tu compañera/o a las variables `nombre` y `apellido`. Luego, imprimir la siguiente frase, utilizando las variables: \"Hola. Mi nombre es Fernando Mellone. Mucho gusto.\""
   ]
  },
  {
   "cell_type": "markdown",
   "metadata": {},
   "source": [
    "# Solución de Choco 🍫"
   ]
  },
  {
   "cell_type": "code",
   "execution_count": 31,
   "metadata": {},
   "outputs": [
    {
     "name": "stdout",
     "output_type": "stream",
     "text": [
      "Hola. Mi nombre es Amanda Almada. Mucho gusto.\n"
     ]
    }
   ],
   "source": [
    "nombre = \"Amanda\"\n",
    "apellido = \"Almada\"\n",
    "\n",
    "print(\"Hola. Mi nombre es\", nombre, apellido + \". Mucho gusto.\")"
   ]
  },
  {
   "cell_type": "markdown",
   "metadata": {},
   "source": [
    "# Solución de Monchi 🏴‍☠️"
   ]
  },
  {
   "cell_type": "code",
   "execution_count": 32,
   "metadata": {},
   "outputs": [
    {
     "name": "stdout",
     "output_type": "stream",
     "text": [
      "\"Hola. Mi nombre es Julio Cesar Franco Calderoli. Mucho gusto, eres un crack!!\"\n"
     ]
    }
   ],
   "source": [
    "nombre = \"Julio Cesar\"\n",
    "apellido = \"Franco Calderoli\"\n",
    "\n",
    "nombre_completo = nombre + \" \" +  apellido\n",
    "\n",
    "print('\"Hola. Mi nombre es' , nombre_completo + '. Mucho gusto, eres un crack!!\"')"
   ]
  },
  {
   "cell_type": "markdown",
   "metadata": {},
   "source": [
    "## Obteniendo datos del usuario"
   ]
  },
  {
   "cell_type": "code",
   "execution_count": 37,
   "metadata": {},
   "outputs": [
    {
     "name": "stdout",
     "output_type": "stream",
     "text": [
      "20\n",
      "10\n"
     ]
    }
   ],
   "source": [
    "numero_ingresado = input(\"Escriba un número, por favor: \")\n",
    "\n",
    "otro_numero_ingresado = input(\"Escriba otro numero\")\n",
    "\n",
    "print(otro_numero_ingresado)\n",
    "print(numero_ingresado)"
   ]
  },
  {
   "cell_type": "code",
   "execution_count": 55,
   "metadata": {},
   "outputs": [
    {
     "name": "stdout",
     "output_type": "stream",
     "text": [
      "\"Hola. Mi nombre es Jose Martinez. Mucho gusto, eres un crack!!\"\n"
     ]
    }
   ],
   "source": [
    "nombre = input(\"Ingresa tu nombre\")\n",
    "apellido = input(\"Ingresa tu apellido\")\n",
    "\n",
    "nombre_completo = nombre + \" \" +  apellido\n",
    "\n",
    "print('\"Hola. Mi nombre es' , nombre_completo + '. Mucho gusto, eres un crack!!\"')"
   ]
  },
  {
   "cell_type": "code",
   "execution_count": 46,
   "metadata": {},
   "outputs": [
    {
     "name": "stdout",
     "output_type": "stream",
     "text": [
      "la cantidad restante de frutas es: 2 frutas\n",
      "<class 'int'>\n",
      "las frutas restantes son: 1 frutas\n"
     ]
    }
   ],
   "source": [
    "cantidad_de_manzanas = int(input(\"Ingresa la cantidad de manzanas: \"))\n",
    "cantidad_de_naranjas = int(input(\"Ingresa la cantidad de naranjas: \"))\n",
    "\n",
    "cantidad_de_frutas = cantidad_de_manzanas + cantidad_de_naranjas\n",
    "print(\"la cantidad restante de frutas es:\", cantidad_de_frutas , \"frutas\")\n",
    "\n",
    "frutas_comidas = int(input(\"Ingresa la cantidad de frutas que comiste: \"))\n",
    "\n",
    "print(type(frutas_comidas))\n",
    "\n",
    "frutas_restantes = cantidad_de_frutas - frutas_comidas\n",
    "print(\"las frutas restantes son:\", frutas_restantes ,\"frutas\")"
   ]
  },
  {
   "cell_type": "markdown",
   "metadata": {},
   "source": [
    "## Challenge 🤺\n",
    "\n",
    "Pedir al usuario que ingrese un `monto` y calcular el IVA según dicho `monto`. Imprimir el `resultado`."
   ]
  },
  {
   "cell_type": "markdown",
   "metadata": {},
   "source": [
    "Solución de Ana 🧮"
   ]
  },
  {
   "cell_type": "code",
   "execution_count": 47,
   "metadata": {},
   "outputs": [
    {
     "name": "stdout",
     "output_type": "stream",
     "text": [
      "El IVA es: 10000.0\n"
     ]
    }
   ],
   "source": [
    "Monto = float(input(\"Ingrese el monto de facturacion, IVA incluido\"))\n",
    "\n",
    "IVA = Monto/11  # guarda un valor float\n",
    "print(\"El IVA es:\", IVA)"
   ]
  },
  {
   "cell_type": "markdown",
   "metadata": {},
   "source": [
    "# Solución de Jannick 🐼"
   ]
  },
  {
   "cell_type": "code",
   "execution_count": 50,
   "metadata": {},
   "outputs": [
    {
     "name": "stdout",
     "output_type": "stream",
     "text": [
      "Su IVA es: 10000 Gs.\n"
     ]
    }
   ],
   "source": [
    "monto = input(\"Ingresar el monto para calcular el IVA: \")   # str\n",
    "monto = int(monto)  #transformar de str a int, sobre escribimos\n",
    "resultado = int(monto/11)\n",
    "print(\"Su IVA es:\", resultado, \"Gs.\")"
   ]
  },
  {
   "cell_type": "markdown",
   "metadata": {},
   "source": [
    "Ejemplo"
   ]
  },
  {
   "cell_type": "code",
   "execution_count": 54,
   "metadata": {},
   "outputs": [
    {
     "name": "stdout",
     "output_type": "stream",
     "text": [
      "10000.0\n"
     ]
    }
   ],
   "source": [
    "# monto1 = float(input(\"monto 1\"))\n",
    "# monto2 = float(input(\"monto 2\"))\n",
    "\n",
    "# iva_monto1 = monto1 / 11\n",
    "# iva_monto2 = monto2 / 11\n",
    "\n",
    "# monto = float(input(\"monto\"))\n",
    "\n",
    "\n",
    "def calcular_iva(monto):\n",
    "    # Las vegas\n",
    "    iva = monto / 11\n",
    "    print(iva)\n",
    "\n",
    "calcular_iva(monto)\n",
    "\n",
    "\n"
   ]
  },
  {
   "cell_type": "markdown",
   "metadata": {},
   "source": [
    "## Challenge 🤺\n",
    "\n",
    "Definir una función que tome dos números como parámetros, los sume e imprima el resultado."
   ]
  },
  {
   "cell_type": "markdown",
   "metadata": {},
   "source": [
    "# Solución de Sebas"
   ]
  },
  {
   "cell_type": "code",
   "execution_count": null,
   "metadata": {},
   "outputs": [],
   "source": [
    "#Auxiliar\n",
    "def imprimir(a,b):\n",
    "    print(\"El primer numero por teclado fue:\",a)\n",
    "    print(\"El primer numero por teclado fue:\",b)\n",
    "    suma=a+b\n",
    "    print(\"Suma:\",suma)\n",
    "\n",
    "\n",
    "\n",
    "#Programa Principal \n",
    "num1=int(input(\"Ingrese Num1:\"))\n",
    "num2=int(input(\"Ingrese Num2:\"))\n",
    "#Auiliar\n",
    "imprimir(num1,num2)"
   ]
  },
  {
   "cell_type": "markdown",
   "metadata": {},
   "source": [
    "# Solución de Ale"
   ]
  },
  {
   "cell_type": "code",
   "execution_count": null,
   "metadata": {},
   "outputs": [],
   "source": [
    "def sumar_dos_numeros(x, y) :\n",
    "    suma = x + y\n",
    "    print(suma)\n",
    "\n",
    "n1 = int(input(\"Inserte un numero\"))\n",
    "n2 = int(input(\"Inserte otro numero\"))\n",
    "\n",
    "sumar_dos_numeros(n1,n2)"
   ]
  },
  {
   "cell_type": "markdown",
   "metadata": {},
   "source": [
    "# Challenge 🤺"
   ]
  },
  {
   "cell_type": "markdown",
   "metadata": {},
   "source": [
    "Crear una función que reciba la edad y el nombre de un participante y retorne el texto \"Bienvenido a Penguin, {nombre} de {edad} años!\"\n",
    "Imprimir el mensaje. \n",
    "**_(Homework)_**"
   ]
  },
  {
   "cell_type": "code",
   "execution_count": null,
   "metadata": {},
   "outputs": [],
   "source": [
    "# Crear funcion\n",
    "def bienvenida(nombre, edad):\n",
    "    # crear texto de bienvenida\n",
    "    \n",
    "    return # texto de bienvenida\n",
    "\n",
    "# llamar a la funcion\n",
    "bienvenida(\"Enrique\", 21)\n",
    "\n",
    "# guardar uma variable el retorno de la funcion\n",
    "\n",
    "# imprimir\n"
   ]
  }
 ],
 "metadata": {
  "interpreter": {
   "hash": "aee8b7b246df8f9039afb4144a1f6fd8d2ca17a180786b69acc140d282b71a49"
  },
  "kernelspec": {
   "display_name": "Python 3.10.4 64-bit",
   "language": "python",
   "name": "python3"
  },
  "language_info": {
   "codemirror_mode": {
    "name": "ipython",
    "version": 3
   },
   "file_extension": ".py",
   "mimetype": "text/x-python",
   "name": "python",
   "nbconvert_exporter": "python",
   "pygments_lexer": "ipython3",
   "version": "3.10.4"
  },
  "orig_nbformat": 4
 },
 "nbformat": 4,
 "nbformat_minor": 2
}
