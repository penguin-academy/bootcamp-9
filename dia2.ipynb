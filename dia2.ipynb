{
 "cells": [
  {
   "cell_type": "markdown",
   "metadata": {},
   "source": [
    "# Funciones (otra vez 🤩💃)"
   ]
  },
  {
   "cell_type": "code",
   "execution_count": 6,
   "metadata": {},
   "outputs": [
    {
     "name": "stdout",
     "output_type": "stream",
     "text": [
      "Buenas tardes Joselo!\n",
      "Hoy es jueves\n",
      "Buenas tardes Manu!\n",
      "Hoy es jueves\n",
      "Buenas tardes Steven!\n",
      "Hoy es jueves\n"
     ]
    }
   ],
   "source": [
    "def mi_funcion(nombre):\n",
    "    print(\"Buenas tardes\", nombre + \"!\")\n",
    "    print(\"Hoy es jueves\")\n",
    "\n",
    "# Parámetros son espacios que asignamos para datos a futuro\n",
    "\n",
    "# Argumentos son los datos que pasamos en esos espacios\n",
    "\n",
    "mi_funcion(\"Joselo\")\n",
    "mi_funcion(\"Manu\")\n",
    "mi_funcion(\"Steven\")"
   ]
  },
  {
   "cell_type": "markdown",
   "metadata": {},
   "source": [
    "# Parámetro y argumentos"
   ]
  },
  {
   "cell_type": "markdown",
   "metadata": {},
   "source": [
    "# Challenge 🤺\n",
    "Crear una función que le de la bienvenida a los participantes del bootcamp. Pasar el nombre de cada participante a la función."
   ]
  },
  {
   "cell_type": "markdown",
   "metadata": {},
   "source": [
    "## Solución de Arza 🧮"
   ]
  },
  {
   "cell_type": "code",
   "execution_count": null,
   "metadata": {},
   "outputs": [],
   "source": [
    "def bienvenida(nombre):\n",
    "    print(\"Bienvenido al bootcamp\", nombre + \"!\")\n",
    "\n",
    "bienvenida(\"Arza\")\n",
    "bienvenida(\"Kou\")\n",
    "bienvenida(\"Mica\")\n",
    "bienvenida(\"Monchi\")\n",
    "bienvenida(\"Daniel\")"
   ]
  },
  {
   "cell_type": "markdown",
   "metadata": {},
   "source": [
    "## Solución de Max"
   ]
  },
  {
   "cell_type": "code",
   "execution_count": null,
   "metadata": {},
   "outputs": [],
   "source": [
    "def mi_funcion(nombre):\n",
    "    print(\"Bienvenido al bootcamp\", nombre + \"!\")\n",
    "\n",
    "mi_funcion(\"Nico\")\n",
    "mi_funcion(\"Edu\")\n",
    "mi_funcion(\"Ricardo\")"
   ]
  },
  {
   "cell_type": "markdown",
   "metadata": {},
   "source": [
    "## Solución de Amanda"
   ]
  },
  {
   "cell_type": "code",
   "execution_count": null,
   "metadata": {},
   "outputs": [],
   "source": [
    "def bienvenida (nombre):\n",
    "\n",
    "    print(\"Bienvenido/a \" + nombre + \"!\")\n",
    "\n",
    "bienvenida(\"Ale\")\n",
    "bienvenida(\"Gaby\")\n",
    "bienvenida(\"Mayra\")\n",
    "bienvenida(\"Fátima\")"
   ]
  },
  {
   "cell_type": "markdown",
   "metadata": {},
   "source": [
    "# Condicionales"
   ]
  },
  {
   "cell_type": "code",
   "execution_count": 17,
   "metadata": {},
   "outputs": [
    {
     "name": "stdout",
     "output_type": "stream",
     "text": [
      "True\n",
      "Es menor de edad\n"
     ]
    }
   ],
   "source": [
    "edad_de_la_persona = int(input(\"Ingrese la edad\"))\n",
    "\n",
    "es_menor_de_edad = edad_de_la_persona != 18 # True o False -> Verdadero o Falso\n",
    "\n",
    "esta_jubilado = edad_de_la_persona >= 60\n",
    "\n",
    "if es_menor_de_edad:\n",
    "    print(\"Es menor de edad\")\n",
    "elif esta_jubilado:\n",
    "    print(\"Está jubilado\")\n",
    "else:\n",
    "    print(\"Puede trabajar\")"
   ]
  },
  {
   "cell_type": "markdown",
   "metadata": {},
   "source": [
    "## Challenge 🤺\n",
    "\n",
    "Escribir un programa en el que se pregunte al usuario por una temperatura (en grados Celsius), imprima la temperatura escrita, y luego clasificar la temperatura ingresada en 3 niveles:\n",
    "\n",
    "1. Entre `-10` y `18` grados, que imprima \"Fresquete\".\n",
    "2. Entre `19` y `30` grados, que imprima \"Calor'i\".\n",
    "3. Entre `31` y `45` grados, que imprima \"Hakuuuuuu\".\n",
    "4. Para todo lo demás, imprimir \"Ñamano mba'e!\"."
   ]
  },
  {
   "cell_type": "markdown",
   "metadata": {},
   "source": [
    "# Solución de Day <3"
   ]
  },
  {
   "cell_type": "markdown",
   "metadata": {},
   "source": [
    "#Escribir un programa en el que se pregunte al usuario una temperatura random en celcius\n",
    "\n",
    "temperatura_celsius = int(input(\"Por favor ingrese una temperatura en celsius:\"))\n",
    "\n",
    "# primir la temperatura escrita\n",
    "print(temperatura_celsius)\n",
    "\n",
    "#Clasificar la temperatura\n",
    "\n",
    "fresquete = temperatura_celsius >= -10 and temperatura_celsius <= 18\n",
    "calor_cito = temperatura_celsius >= 19 and temperatura_celsius <= 30\n",
    "haku = temperatura_celsius >= 31 and temperatura_celsius <= 45\n",
    "\n",
    "#Clasificar las temperaturas segun niveles a traves de condicionales\n",
    "\n",
    "if fresquete:\n",
    "    print(\"Fresquete\")\n",
    "elif calor_cito:\n",
    "    print(\"Calor'i\")\n",
    "elif haku:\n",
    "    print(\"hakuuuuuuuuu\")\n",
    "else:\n",
    "    print(\"Ñamano mba'e\")"
   ]
  },
  {
   "cell_type": "markdown",
   "metadata": {},
   "source": [
    "# Solución de Gaby 🍕"
   ]
  },
  {
   "cell_type": "code",
   "execution_count": 18,
   "metadata": {},
   "outputs": [
    {
     "name": "stdout",
     "output_type": "stream",
     "text": [
      "-12\n",
      "Me derritooooo😢\n"
     ]
    }
   ],
   "source": [
    "temperatura_actual = int(input(\"Cual es la temperatura actual?\"))\n",
    "print(temperatura_actual)\n",
    "if temperatura_actual >= -10 and temperatura_actual <= 18:\n",
    "    print(\"Fresquete😎\")\n",
    "\n",
    "elif temperatura_actual >=19 and temperatura_actual <=30:\n",
    "    print(\"Calor`i\")\n",
    "\n",
    "elif temperatura_actual >=31 and temperatura_actual <=45:\n",
    "    print(\"Hakuuuuu\")\n",
    "\n",
    "else :\n",
    "    print(\"Me derritooooo😢\")"
   ]
  },
  {
   "cell_type": "markdown",
   "metadata": {},
   "source": [
    "## Solución de Pilar 🔴"
   ]
  },
  {
   "cell_type": "code",
   "execution_count": 19,
   "metadata": {},
   "outputs": [
    {
     "name": "stdout",
     "output_type": "stream",
     "text": [
      "Esta fresco el dia\n"
     ]
    }
   ],
   "source": [
    "cual_es_la_temperatura= int(input(\"Cual es la temperatura\"))\n",
    "fresco= cual_es_la_temperatura <=18 \n",
    "calido= cual_es_la_temperatura <=30 \n",
    "haku= cual_es_la_temperatura <= 45\n",
    "mas_de_eso= cual_es_la_temperatura <=100\n",
    "\n",
    "if fresco:\n",
    "    print(\"Esta fresco el dia\")\n",
    "elif calido:\n",
    "    print(\"Esta calido el dia\") \n",
    "elif haku:\n",
    "    print (\"Hakuuuu\") \n",
    "elif mas_de_eso: \n",
    "    print(\"Ñamano mba'e!\")"
   ]
  },
  {
   "cell_type": "markdown",
   "metadata": {},
   "source": [
    "## Solución de Ale 🥼"
   ]
  },
  {
   "cell_type": "code",
   "execution_count": null,
   "metadata": {},
   "outputs": [],
   "source": [
    "temperatura_de_hoy = int(input(\"Ingresar temperatura de hoy\"))\n",
    "\n",
    "if temperatura_de_hoy  >= -10 and temperatura_de_hoy <= 18:\n",
    "    print(\"Hoy hace \" + str(temperatura_de_hoy) + \" grados.\" + \" Refreska'i\")\n",
    "elif temperatura_de_hoy >= 19 and temperatura_de_hoy <= 30:\n",
    "   print(\"Hoy hace \" + str(temperatura_de_hoy) + \" grados.\"\" Calor'i, surge un tere\")\n",
    "elif temperatura_de_hoy >= 31 and temperatura_de_hoy <= 45:\n",
    "    print(\"Hoy hace \"+ str(temperatura_de_hoy) + \" grados.\"\" Hakuuuuu, no tenes pile kp‽\")\n",
    "else:\n",
    "   print(\"Hoy hace \"+ str(temperatura_de_hoy) + \" grados.\"\" Ñamano mba'e\")"
   ]
  },
  {
   "cell_type": "markdown",
   "metadata": {},
   "source": [
    "## Solución de Arza 🏎"
   ]
  },
  {
   "cell_type": "code",
   "execution_count": null,
   "metadata": {},
   "outputs": [],
   "source": [
    "temperatura=float(input(\"Ingrese la temperatura actual: \"))\n",
    "\n",
    "if temperatura >= -10 and temperatura <=18:\n",
    "    print(\"Fresquete\")\n",
    "elif temperatura >= 19 and temperatura <=30:\n",
    "    print(\"Calor'i\")\n",
    "elif temperatura >= 31 and temperatura <=45:\n",
    "    print(\"Hakuuuuuu\")\n",
    "else:\n",
    "    print(\"Ñamano mba'e\")"
   ]
  },
  {
   "cell_type": "markdown",
   "metadata": {},
   "source": [
    "# Bucles condicionales (while)"
   ]
  },
  {
   "cell_type": "code",
   "execution_count": 5,
   "metadata": {},
   "outputs": [
    {
     "name": "stdout",
     "output_type": "stream",
     "text": [
      "Volve el anio que viene crack! Tenés 18 anios recien\n",
      "Podes manejar\n",
      "asdaskdkasd\n",
      "0\n"
     ]
    }
   ],
   "source": [
    "edad = 16\n",
    "\n",
    "while True:\n",
    "    print('Volve el anio que viene crack! Tenés', edad, 'anios recien')\n",
    "    edad = edad + 1\n",
    "\n",
    "    if edad >= 18:\n",
    "        print(\"Podes manejar\")\n",
    "        print('asdaskdkasd')\n",
    "        edad = 0\n",
    "        break\n",
    "\n",
    "print(edad) # 0"
   ]
  },
  {
   "cell_type": "code",
   "execution_count": 11,
   "metadata": {},
   "outputs": [
    {
     "name": "stdout",
     "output_type": "stream",
     "text": [
      "\n",
      "\n",
      "Fer\n"
     ]
    }
   ],
   "source": [
    "nombre = None\n",
    "\n",
    "while nombre != \"Fer\":\n",
    "    nombre = input(\"Introducir un nombre\")\n",
    "    print(nombre)\n",
    "\n"
   ]
  },
  {
   "cell_type": "markdown",
   "metadata": {},
   "source": [
    "## Challenge 🤺\n",
    "\n",
    "Escribir un programa que almacene una contraseña en una variable, y pregunte al usuario por la contraseña hasta que introduzca la contraseña correcta."
   ]
  },
  {
   "cell_type": "markdown",
   "metadata": {},
   "source": [
    "## Solución de Edu 🚗"
   ]
  },
  {
   "cell_type": "code",
   "execution_count": 14,
   "metadata": {},
   "outputs": [
    {
     "name": "stdout",
     "output_type": "stream",
     "text": [
      "Contraseña incorrecta. Vuelva intentarlo\n",
      "Contraseña correcta\n"
     ]
    }
   ],
   "source": [
    "contraseña = None\n",
    "\n",
    "while contraseña != \"Eduardo\":\n",
    "    contraseña = input(\"Escriba su contraseña\")\n",
    "    if contraseña == \"Eduardo\":\n",
    "        print(\"Contraseña correcta\")\n",
    "    elif contraseña != \"Eduardo\":\n",
    "        print(\"Contraseña incorrecta. Vuelva intentarlo\")"
   ]
  },
  {
   "cell_type": "markdown",
   "metadata": {},
   "source": [
    "## Solución de Mayra 🤸"
   ]
  },
  {
   "cell_type": "code",
   "execution_count": 15,
   "metadata": {},
   "outputs": [
    {
     "name": "stdout",
     "output_type": "stream",
     "text": [
      "Bienvenid@!!\n",
      "Hola otra vez!\n"
     ]
    }
   ],
   "source": [
    "contrasenha = None\n",
    "\n",
    "while contrasenha != \"HolaMundo\":\n",
    "    contrasenha = input(\"Por favor, escriba la contrasenha:\")\n",
    "\n",
    "print(\"Bienvenid@!!\")\n",
    "\n",
    "while contrasenha != str(1234):\n",
    "    contrasenha = input(\"Contrasenha:\")\n",
    "\n",
    "print(\"Hola otra vez!\")"
   ]
  },
  {
   "cell_type": "markdown",
   "metadata": {},
   "source": [
    "# Bucles iterativos (for)"
   ]
  },
  {
   "cell_type": "markdown",
   "metadata": {},
   "source": [
    "# Listas"
   ]
  },
  {
   "cell_type": "code",
   "execution_count": 19,
   "metadata": {},
   "outputs": [
    {
     "name": "stdout",
     "output_type": "stream",
     "text": [
      "peras\n",
      "10\n",
      "False\n",
      "5.3\n"
     ]
    }
   ],
   "source": [
    "lista_de_participantes = [\"Ana\", \"Jose\"]\n",
    "\n",
    "lista_de_participantes[0]\n",
    "\n",
    "lista_de_frutas = [\"naranjas\", \"peras\", \"kiwis\"]\n",
    "\n",
    "lista_bool = [True, False, False, True]\n",
    "\n",
    "lista_de_numeros = [1, 2, 1.22, 3.14]\n",
    "\n",
    "lista_variada = [\"peras\", 10, False, 5.3]\n",
    "\n",
    "# print(lista_variada[1])\n",
    "\n",
    "for elemento in lista_variada:\n",
    "    print(elemento)\n",
    "\n",
    "\n",
    "otra_fruta = \"carambolas\"\n",
    "\n",
    "# Agregar al final de la lista\n",
    "lista_de_frutas.append(otra_fruta)\n",
    "\n",
    "# Agregar un elemento en una posición específica\n",
    "lista_de_frutas.insert(2, \"manzanas\")\n",
    "\n",
    "# Quitar un elemento\n",
    "lista_de_frutas.remove(\"kiwis\")\n",
    "\n",
    "# Quitar un elemento de una posicion especifica\n",
    "lista_de_frutas.pop(3)\n"
   ]
  },
  {
   "cell_type": "code",
   "execution_count": 22,
   "metadata": {},
   "outputs": [
    {
     "name": "stdout",
     "output_type": "stream",
     "text": [
      "Te stevenizaron! Mayra\n",
      "Te stevenizaron! Gaby\n",
      "Te stevenizaron! Jose\n",
      "Te stevenizaron! Seba\n"
     ]
    }
   ],
   "source": [
    "lista_de_sillas = []\n",
    "\n",
    "lista_de_sillas.append(\"Mayra\")\n",
    "\n",
    "# [\"Mayra\"]\n",
    "\n",
    "lista_de_sillas.append(\"Gaby\")\n",
    "\n",
    "# [\"Mayra\", \"Gaby\"]\n",
    "\n",
    "lista_de_sillas.append(\"Jose\")\n",
    "# [\"Mayra\", \"Gaby\"]\n",
    "\n",
    "lista_de_sillas.append(\"Seba\")\n",
    "# [\"Mayra\", \"Gaby\", \"Jose\", \"Seba\"]\n",
    "\n",
    "def stevenizar(nombre):\n",
    "    print(\"Te stevenizaron!\", nombre)\n",
    "\n",
    "for participante in lista_de_sillas:\n",
    "    input() #ignoren esta linea\n",
    "    stevenizar(participante)"
   ]
  },
  {
   "cell_type": "markdown",
   "metadata": {},
   "source": [
    "## Challenge 🤺\n",
    "\n",
    "Escribir un programa en el que se pregunte al usuario por una frase y una letra, y muestre por pantalla el número de veces que aparece la letra en la frase."
   ]
  },
  {
   "cell_type": "code",
   "execution_count": null,
   "metadata": {},
   "outputs": [],
   "source": [
    "# Pedir al usuario una frase (input)\n",
    "\n",
    "# Guardar la frase ingresada en una variable\n",
    "\n",
    "# Pedir al usuario una letra\n",
    "\n",
    "# Iterar (en?) la frase letra por letra para encontrar la letra buscada\n",
    "\n",
    "# Contar cuantas veces aparece la letra en la frase\n",
    "\n",
    "# Imprimir el total\n",
    "\n"
   ]
  },
  {
   "cell_type": "markdown",
   "metadata": {},
   "source": [
    "## Solución de Luigi 👨🏻🟢"
   ]
  },
  {
   "cell_type": "code",
   "execution_count": 24,
   "metadata": {},
   "outputs": [
    {
     "name": "stdout",
     "output_type": "stream",
     "text": [
      "la frase es a la mirada de nuestro senior\n",
      "La cantidad de veces que aparece la letra es 5\n"
     ]
    }
   ],
   "source": [
    "frase = input(\"ingresa una frase\")\n",
    "letra = input(\"Ingresa una letra\")\n",
    "contador = 0\n",
    "for iterador in frase:\n",
    "    if letra == iterador:\n",
    "        contador = contador + 1\n",
    "contador = str(contador)\n",
    "print(\"la frase es\", frase)\n",
    "print(\"La cantidad de veces que aparece la letra es \" + contador)"
   ]
  },
  {
   "cell_type": "markdown",
   "metadata": {},
   "source": [
    "## Solución de Monchi 📱🛵"
   ]
  },
  {
   "cell_type": "code",
   "execution_count": 25,
   "metadata": {},
   "outputs": [
    {
     "name": "stdout",
     "output_type": "stream",
     "text": [
      "3\n"
     ]
    }
   ],
   "source": [
    "frase_usuario = input(\"ingrese una frase: \")\n",
    "letra_solicitada = input(\"Ingrese la letra para buscar: \")\n",
    "contador = 0\n",
    "\n",
    "\n",
    "for Letra in frase_usuario:\n",
    "    if Letra == letra_solicitada:\n",
    "        contador = contador + 1 \n",
    "\n",
    "print(contador)"
   ]
  },
  {
   "cell_type": "markdown",
   "metadata": {},
   "source": [
    "# Necesitamos lo siguiente:\n",
    " - Variables\n",
    " - Tipos de datos\n",
    " - Concatenación\n",
    " - Operadores lógicos\n",
    " - Condicionales (controlar el flujo)\n",
    " - Funciones (🧟‍♀️)\n",
    " - Bucles\n",
    " - Listas (?)"
   ]
  },
  {
   "cell_type": "markdown",
   "metadata": {},
   "source": [
    "## Variables"
   ]
  },
  {
   "cell_type": "code",
   "execution_count": null,
   "metadata": {},
   "outputs": [],
   "source": [
    "palabra = \"audio\"\n",
    "\n",
    "letra = \"o\""
   ]
  },
  {
   "cell_type": "markdown",
   "metadata": {},
   "source": [
    "## Tipos de datos"
   ]
  },
  {
   "cell_type": "code",
   "execution_count": null,
   "metadata": {},
   "outputs": [],
   "source": [
    "letras_coinciden = True # boolean\n",
    "\n",
    "cantidad_de_letras = 5 # number\n",
    "\n",
    "palabra = \"audio\" # string\n",
    "\n",
    "lista_de_letras_de_la_palabra = ['a', 'u', 'd', 'i', 'o'] # lista\n"
   ]
  },
  {
   "cell_type": "markdown",
   "metadata": {},
   "source": [
    "## Concatenación"
   ]
  },
  {
   "cell_type": "code",
   "execution_count": null,
   "metadata": {},
   "outputs": [],
   "source": [
    "palabra_ingresada = input(\"Ingresar palabra\")\n",
    "\n",
    "mensaje = \"La palabra ingresada es \" + palabra_ingresada"
   ]
  },
  {
   "cell_type": "markdown",
   "metadata": {},
   "source": [
    "## Operadores lógicos"
   ]
  },
  {
   "cell_type": "code",
   "execution_count": 26,
   "metadata": {},
   "outputs": [],
   "source": [
    "las_letras_coinciden = 'a' == 'b' # False"
   ]
  },
  {
   "cell_type": "markdown",
   "metadata": {},
   "source": [
    "# Condicionales"
   ]
  },
  {
   "cell_type": "code",
   "execution_count": 27,
   "metadata": {},
   "outputs": [],
   "source": [
    "if las_letras_coinciden:\n",
    "    print(\"Las letras coinciden\")"
   ]
  },
  {
   "cell_type": "markdown",
   "metadata": {},
   "source": [
    "## Funciones"
   ]
  },
  {
   "cell_type": "code",
   "execution_count": null,
   "metadata": {},
   "outputs": [],
   "source": [
    "def verificar_si_letras_coinciden(iterador, letra):\n",
    "    las_letras_coinciden = letra == iterador # False\n",
    "    if las_letras_coinciden:\n",
    "        print(\"Las letras coinciden\")\n",
    "    else:\n",
    "        print(\"Las letras no coinciden\")"
   ]
  },
  {
   "cell_type": "markdown",
   "metadata": {},
   "source": [
    "## Challenge 🤺\n",
    "Crear una funcion que imprima una variable `palabra`"
   ]
  },
  {
   "cell_type": "code",
   "execution_count": 32,
   "metadata": {},
   "outputs": [
    {
     "name": "stdout",
     "output_type": "stream",
     "text": [
      "palabrita\n"
     ]
    }
   ],
   "source": [
    "def imprimir_palabra():\n",
    "    palabra_a_imprimir = input(\"Ingresar una palabra: \")\n",
    "    print(palabra_a_imprimir)\n",
    "\n",
    "imprimir_palabra()"
   ]
  },
  {
   "cell_type": "markdown",
   "metadata": {},
   "source": [
    "## Challenge 2 🤺\n",
    "\n",
    "Crear una función que reciba dos letras (parámetros) y que verifique si son iguales:\n",
    "1. Si son iguales, imprimir **\"Las letras son iguales\"**.\n",
    "2. De lo contrario, imprimir **\"Las letras son diferentes\"**.\n"
   ]
  },
  {
   "cell_type": "markdown",
   "metadata": {},
   "source": [
    "## Solución de Ale 🩺"
   ]
  },
  {
   "cell_type": "code",
   "execution_count": null,
   "metadata": {},
   "outputs": [],
   "source": [
    "def comparar(x,y):\n",
    "    if x == y:\n",
    "     print(\"Las letras son iguales.\")\n",
    "    else:\n",
    "        print(\"Las letras son diferentes.\")\n",
    "\n",
    "comparar(\"A\",\"A\")\n",
    "comparar(\"b\",\"c\")"
   ]
  },
  {
   "cell_type": "markdown",
   "metadata": {},
   "source": [
    "# Solución de Kou 🐉"
   ]
  },
  {
   "cell_type": "code",
   "execution_count": null,
   "metadata": {},
   "outputs": [],
   "source": [
    "\n",
    "\n",
    "def comparar_letras():\n",
    "    letra1= input(\"introduce la primera letra\")\n",
    "    letra2= input(\"introduce la segunda letra\")\n",
    "    if letra1 == letra2:\n",
    "        print(\"las letras son iguales\")\n",
    "    else: \n",
    "        print(\"las letras no son iguales\") \n",
    "\n",
    "comparar_letras()\n",
    "\n"
   ]
  },
  {
   "cell_type": "code",
   "execution_count": null,
   "metadata": {},
   "outputs": [],
   "source": [
    "def comparar_letras(parametro1, parametro2):\n",
    "    if parametro1 == parametro2:\n",
    "        print(\"las letras son iguales\")\n",
    "    else: \n",
    "        print(\"las letras no son iguales\")"
   ]
  },
  {
   "cell_type": "markdown",
   "metadata": {},
   "source": [
    "## Solución de Fer"
   ]
  },
  {
   "cell_type": "code",
   "execution_count": 34,
   "metadata": {},
   "outputs": [
    {
     "name": "stdout",
     "output_type": "stream",
     "text": [
      "Las letras son iguales\n"
     ]
    }
   ],
   "source": [
    "def verficar_si_las_letras_son_iguales(x, y):\n",
    "    letras_son_iguales = letra1 == letra2\n",
    "\n",
    "    if letras_son_iguales:\n",
    "        print(\"Las letras son iguales\")\n",
    "    else:\n",
    "        print(\"Las letras son diferentes\")\n",
    "\n",
    "verficar_si_las_letras_son_iguales('a', 'a')"
   ]
  }
 ],
 "metadata": {
  "interpreter": {
   "hash": "aee8b7b246df8f9039afb4144a1f6fd8d2ca17a180786b69acc140d282b71a49"
  },
  "kernelspec": {
   "display_name": "Python 3.10.4 64-bit",
   "language": "python",
   "name": "python3"
  },
  "language_info": {
   "codemirror_mode": {
    "name": "ipython",
    "version": 3
   },
   "file_extension": ".py",
   "mimetype": "text/x-python",
   "name": "python",
   "nbconvert_exporter": "python",
   "pygments_lexer": "ipython3",
   "version": "3.10.4"
  },
  "orig_nbformat": 4
 },
 "nbformat": 4,
 "nbformat_minor": 2
}
