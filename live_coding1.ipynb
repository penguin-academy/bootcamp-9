{
 "cells": [
  {
   "cell_type": "markdown",
   "metadata": {},
   "source": [
    "# Ejercicio 1\n",
    "## Tu peso en otro planeta: **Marte**\n",
    "En la Tierra, la fuerza de la gravedad es de 9.8 $m^2$.\n",
    "\n",
    "\n",
    "Tu tarea es investigar qué formula podemos utilizar para obtener el equivalente de peso en **Marte**."
   ]
  },
  {
   "cell_type": "code",
   "execution_count": 7,
   "metadata": {
    "vscode": {
     "languageId": "markdown"
    }
   },
   "outputs": [
    {
     "name": "stdout",
     "output_type": "stream",
     "text": [
      "Tu peso es 28.41\n"
     ]
    }
   ],
   "source": [
    "### Hola! Con los comments, voy a darles una ayuda para estructurar sus códigos:\n",
    "\n",
    "\n",
    "# Paso 1: Pedir el peso al usuario\n",
    "peso_en_la_tierra = float(input(\"Ingresa tu peso\"))\n",
    "\n",
    "\n",
    "# Paso 2: calcular nuevo_peso\n",
    "peso_en_marte = peso_en_la_tierra / 9.81 * 3.711\n",
    "peso_en_marte_redondeado = round(peso_en_marte, 2)\n",
    "\n",
    "\n",
    "# Paso 3: Decirle al usuario su nuevo peso\n",
    "print(\"Tu peso es \" + str(peso_en_marte_redondeado))"
   ]
  },
  {
   "cell_type": "markdown",
   "metadata": {},
   "source": [
    "# Ejercicio 2: Adivina el número\n",
    "\n",
    "#### Descripción del ejercicio:\n",
    "El programa genera un número secreto y aleatorio entre 1 y 100 (o cualquier rango especificado) y el usuario debe adivinar el número tras una pista de la computadora.\n",
    "Cada vez que un usuario se equivoca, se le ofrece una pista para que le resulte más fácil adivinar el número, pero a costa de reducir la cantidad de intentos.\n",
    "La pista puede ser si el número ingresado es mayor o menor al número secreto.\n",
    "El programa también requiere funciones para:\n",
    "\n",
    "1.   Comparar el número ingresado con el número secreto \n",
    "2.   Encontrar si el número ingresado es menor o mayor al número secreto"
   ]
  },
  {
   "cell_type": "code",
   "execution_count": 17,
   "metadata": {},
   "outputs": [
    {
     "name": "stdout",
     "output_type": "stream",
     "text": [
      "Encontrá el número! Está entre el 1 y el 100\n",
      "70\n",
      "Te quedan 6 intentos.\n",
      "🔍 La pista es: \n",
      "el numero ingresado es menor que el numero secreto\n",
      "Te quedan 5 intentos.\n",
      "🔍 La pista es: \n",
      "el numero ingresado es menor que el numero secreto\n",
      "Te quedan 4 intentos.\n",
      "🔍 La pista es: \n",
      "el numero ingresado es mayor que el numero secreto\n",
      "Ganaste! 🎉\n"
     ]
    }
   ],
   "source": [
    "import random\n",
    "\n",
    "def comparar_si_los_numeros_son_iguales(numero_ingresado, numero_secreto):\n",
    "    son_iguales = numero_ingresado == numero_secreto\n",
    "    return son_iguales\n",
    "\n",
    "\n",
    "def el_numero_ingresado_es_menor_o_mayor(numero_ingresado, numero_secreto):\n",
    "    if numero_ingresado < numero_secreto:\n",
    "        return 'el numero ingresado es menor que el numero secreto'\n",
    "    else:\n",
    "        return 'el numero ingresado es mayor que el numero secreto'\n",
    "\n",
    "print(\"Encontrá el número! Está entre el 1 y el 100\")\n",
    "numero_secreto_aleatorio = random.randint(1, 100)\n",
    "\n",
    "print(numero_secreto_aleatorio)\n",
    "\n",
    "intentos = 7\n",
    "\n",
    "while True:\n",
    "    numero_que_probo = int(input(\"Ingresa un numero: \"))\n",
    "    son_iguales_los_numeros = comparar_si_los_numeros_son_iguales(numero_que_probo, numero_secreto_aleatorio)\n",
    "\n",
    "    intentos = intentos - 1\n",
    "\n",
    "\n",
    "    numero_esta_fuera_de_rango = numero_que_probo > 100 or numero_que_probo < 1\n",
    "\n",
    "    if numero_esta_fuera_de_rango:\n",
    "        print(\"Te mamaste wacho. Probá algo entre el 1 y el 100 porfa.\")\n",
    "    elif son_iguales_los_numeros:\n",
    "        print(\"Ganaste! 🎉\")\n",
    "        break\n",
    "    elif intentos <= 0:\n",
    "        print(\"Te quedaste sin intentos! 😢\")\n",
    "        break\n",
    "    else:\n",
    "        # Encontrar si el número ingresado es menor o mayor al número secreto\n",
    "        print(\"Te quedan\", intentos, \"intentos.\")\n",
    "        print(\"🔍 La pista es: \")\n",
    "        mensaje = el_numero_ingresado_es_menor_o_mayor(numero_que_probo, numero_secreto_aleatorio)\n",
    "\n",
    "        print(mensaje)\n",
    "        \n",
    "\n"
   ]
  }
 ],
 "metadata": {
  "interpreter": {
   "hash": "aee8b7b246df8f9039afb4144a1f6fd8d2ca17a180786b69acc140d282b71a49"
  },
  "kernelspec": {
   "display_name": "Python 3.10.4 64-bit",
   "language": "python",
   "name": "python3"
  },
  "language_info": {
   "codemirror_mode": {
    "name": "ipython",
    "version": 3
   },
   "file_extension": ".py",
   "mimetype": "text/x-python",
   "name": "python",
   "nbconvert_exporter": "python",
   "pygments_lexer": "ipython3",
   "version": "3.10.4"
  },
  "orig_nbformat": 4
 },
 "nbformat": 4,
 "nbformat_minor": 2
}
