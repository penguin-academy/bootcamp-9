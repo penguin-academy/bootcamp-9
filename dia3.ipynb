{
 "cells": [
  {
   "cell_type": "markdown",
   "metadata": {},
   "source": [
    "# Funciones: `return` 💃🤩"
   ]
  },
  {
   "cell_type": "code",
   "execution_count": null,
   "metadata": {},
   "outputs": [],
   "source": [
    "def verificar_si_las_palabras_coinciden(palabra1, palabra2):\n",
    "    palabras_son_iguales = palabra1 == palabra2\n",
    "    if palabras_son_iguales:\n",
    "        return True\n",
    "    else:\n",
    "        return False\n",
    "\n",
    "resultado = verificar_si_las_palabras_coinciden(\"calor\", \"audio\")\n",
    "\n",
    "intentos = 5\n",
    "\n",
    "# Si el resultado es True\n",
    "if resultado == True:\n",
    "    print(\"Ganaste!\")\n",
    "else:\n",
    "    if intentos > 0:\n",
    "        print(\"Seguí intentando\")\n",
    "    else:\n",
    "        print(\"Perdiste\")\n",
    "\n",
    "# Si el resultado es False\n",
    "# Si quedan intentos\n",
    "print(\"Segui intentando\")\n",
    "\n",
    "# si no quedan intentos\n",
    "print(\"Perdiste\")"
   ]
  },
  {
   "cell_type": "code",
   "execution_count": null,
   "metadata": {},
   "outputs": [],
   "source": [
    "def enfriar_agua(agua, hielo):\n",
    "    # Enfriando el agua\n",
    "    return True\n",
    "\n",
    "agua_fria = enfriar_agua(\"agua\", \"hielo\")"
   ]
  },
  {
   "cell_type": "code",
   "execution_count": 1,
   "metadata": {},
   "outputs": [
    {
     "name": "stdout",
     "output_type": "stream",
     "text": [
      "4\n"
     ]
    }
   ],
   "source": [
    "# variable = robotcito(\"ropa sucia\")\n",
    "\n",
    "# \"ropa\" == \"sala\"\n",
    "\n",
    "cantidad_de_letras = len(\"ropa\")\n",
    "\n",
    "print(cantidad_de_letras)"
   ]
  },
  {
   "cell_type": "markdown",
   "metadata": {},
   "source": [
    "# Challenge 3 🤺\n",
    "\n",
    "Crear una función que reciba dos parámetros (una palabra y un número), y que devuelva `True` si el número es igual a la cantidad de letras de la palabra. En caso contrario, que devuelva `False`."
   ]
  },
  {
   "cell_type": "markdown",
   "metadata": {},
   "source": [
    "# Solución de Ric 🧞‍♀️"
   ]
  },
  {
   "cell_type": "code",
   "execution_count": null,
   "metadata": {},
   "outputs": [],
   "source": [
    "def devuelve_el_numero_de_letras(palabra, numero):\n",
    "        cantidad_de_letras = len(palabra)\n",
    "\n",
    "        cantidad_de_letras_es_igual_al_numero = cantidad_de_letras == numero\n",
    "        if cantidad_de_letras_es_igual_al_numero:\n",
    "            return True\n",
    "        else:\n",
    "            return False\n",
    "\n",
    "# palabra_ingresada = input(\"ingrese_una_palabra\")\n",
    "\n",
    "devuelve_el_numero_de_letras(\"pera\", 5)"
   ]
  },
  {
   "cell_type": "markdown",
   "metadata": {},
   "source": [
    "## Challenge 4 🤺\n",
    "\n",
    "Crear función que revise si una palabra contiene una letra. En caso de que la contenga, retornar la letra entre paréntesis `()`. De lo contrario, retornar solo la letra."
   ]
  },
  {
   "cell_type": "code",
   "execution_count": 2,
   "metadata": {},
   "outputs": [
    {
     "name": "stdout",
     "output_type": "stream",
     "text": [
      "True\n"
     ]
    }
   ],
   "source": [
    "palabra = \"salud\"\n",
    "\n",
    "letra = \"a\"\n",
    "\n",
    "letra_existe_en_palabra = letra in palabra\n",
    "\n",
    "print(letra_existe_en_palabra)"
   ]
  },
  {
   "cell_type": "markdown",
   "metadata": {},
   "source": [
    "## Solución de Manu 👨‍🎓"
   ]
  },
  {
   "cell_type": "code",
   "execution_count": 3,
   "metadata": {},
   "outputs": [
    {
     "name": "stdout",
     "output_type": "stream",
     "text": [
      "(a)\n"
     ]
    }
   ],
   "source": [
    "##funcion comparadora que recibe dos parametros (string len=1,str) \n",
    "def contiene_una_letra(letra,palabra):\n",
    "    condicion_que_contenga=letra in palabra\n",
    "    if condicion_que_contenga:\n",
    "        contiene=\"(\"+letra+\")\"\n",
    "        return contiene\n",
    "    else:\n",
    "        no_contiene=letra\n",
    "        return no_contiene\n",
    "\n",
    "print(contiene_una_letra(\"a\",\"hola\"))"
   ]
  },
  {
   "cell_type": "markdown",
   "metadata": {},
   "source": [
    "## Funciones built-in"
   ]
  },
  {
   "cell_type": "code",
   "execution_count": 22,
   "metadata": {},
   "outputs": [
    {
     "name": "stdout",
     "output_type": "stream",
     "text": [
      "si\n",
      "['c', 'a', 'l', 'o', 'r']\n"
     ]
    }
   ],
   "source": [
    "cantidad_de_caracteres = len(\"texto\")\n",
    "\n",
    "lista = [\"a\", \"b\"]\n",
    "\n",
    "cantidad_de_elementos = len(lista)\n",
    "\n",
    "# print(cantidad_de_elementos)\n",
    "\n",
    "#input\n",
    "\n",
    "palabra_ingresada = input(\"Ingresa una palabra\")\n",
    "\n",
    "def input(texto):\n",
    "    # mostrarle ese texto al usuario\n",
    "    # abrir una ventanita donde va a ir el texto\n",
    "    # return de lo que escribio el usuario\n",
    "    print(\"si\")\n",
    "\n",
    "\n",
    "lista_de_caracteres = list(\"calor\")\n",
    "\n",
    "print(lista_de_caracteres)\n",
    "\n",
    "lista_de_numeros = range(10)\n",
    "\n",
    "# for numero in lista_de_numeros:\n",
    "#     print(numero)\n"
   ]
  },
  {
   "cell_type": "code",
   "execution_count": 23,
   "metadata": {},
   "outputs": [
    {
     "name": "stdout",
     "output_type": "stream",
     "text": [
      "['h', '(o)', '[l]', 'i', 's']\n"
     ]
    }
   ],
   "source": [
    "# Crear una lista vacía para el resultado.\n",
    "# Definir la cantidad de letras de la palabra a encontrar\n",
    "# Si las letras existen en la palabra a encontrar y sus posiciones coinciden: Encerrarlas en [] y agregar al resultado.\n",
    "# Si las letras existen en la palabra a encontrar pero sus posiciones no coinciden: Encerrarlas en () y agregar al resultado.\n",
    "# Si no se cumple ninguna de las anteriores, agregar al resultado sin hacer modificaciones.\n",
    "# Retornar el resultado.\n",
    "\n",
    "resultado = []\n",
    "cantidad_de_letras_de_la_palabra_a_encontrar = 5\n",
    "\n",
    "\n",
    "def obtener_la_fila_verificada(palabra_a_encontrar, palabra_ingresada):\n",
    "    # Creamos la lista de letras en la palabra a encontrar\n",
    "    letras_de_la_palabra_a_encontrar = list(palabra_a_encontrar)\n",
    "\n",
    "    # Creamos la lista de letras de la palabra ingresada\n",
    "    letras_de_la_palabra_ingresada = list(palabra_ingresada)\n",
    "\n",
    "    # Iteramos en cada posición de ambas listas\n",
    "    for posicion_de_la_letra in range(cantidad_de_letras_de_la_palabra_a_encontrar):\n",
    "        # Verificamos si las letras en la misma posición son iguales\n",
    "        las_letras_son_iguales = letras_de_la_palabra_a_encontrar[posicion_de_la_letra] == letras_de_la_palabra_ingresada[posicion_de_la_letra]\n",
    "\n",
    "        # Verificamos si la letra existe en la palabra\n",
    "        la_letra_existe_en_la_palabra = letras_de_la_palabra_ingresada[posicion_de_la_letra] in palabra_a_encontrar\n",
    "\n",
    "        if las_letras_son_iguales:\n",
    "            # Guardar las letras que estan en la palabra a encontrar y coinciden en la posición entre []\n",
    "            letra_modificada = '[' + letras_de_la_palabra_ingresada[posicion_de_la_letra] + ']'\n",
    "            resultado.append(letra_modificada)\n",
    "        elif la_letra_existe_en_la_palabra:\n",
    "\n",
    "            letra_modificada = '(' + letras_de_la_palabra_ingresada[posicion_de_la_letra] + ')'\n",
    "            resultado.append(letra_modificada)\n",
    "        else:\n",
    "            resultado.append(letras_de_la_palabra_ingresada[posicion_de_la_letra])\n",
    "        \n",
    "    return resultado\n",
    "\n",
    "\n",
    "linea_verificada = obtener_la_fila_verificada(\"calor\", \"holis\")\n",
    "\n",
    "print(linea_verificada) # [\"h\", \"(o)\", \"[l]\", \"i\", \"s\"]\n"
   ]
  },
  {
   "cell_type": "markdown",
   "metadata": {},
   "source": [
    "## Challenge 6 🤺\n",
    "\n",
    "Imprimir una grilla: Crear una función que imprima una grilla (lista de listas), una línea por cada lista dentro de la lista principal."
   ]
  },
  {
   "cell_type": "code",
   "execution_count": null,
   "metadata": {},
   "outputs": [],
   "source": [
    "lista = [[\"c\", \"o\", \"l\", \"o\", \"r\"], [\"s\", \"a\", \"l\", \"u\", \"d\"], [\"c\", \"o\", \"s\", \"t\", \"a\"], [\"c\", \"e\", \"n\", \"a\", \"r\"], [\"c\", \"o\", \"m\", \"e\", \"r\"]]"
   ]
  },
  {
   "cell_type": "markdown",
   "metadata": {},
   "source": [
    "## Solución de Gaby 🍕"
   ]
  },
  {
   "cell_type": "code",
   "execution_count": 24,
   "metadata": {},
   "outputs": [
    {
     "name": "stdout",
     "output_type": "stream",
     "text": [
      "['c', 'o', 'l', 'o', 'r']\n",
      "['s', 'a', 'l', 'u', 'd']\n",
      "['c', 'o', 's', 't', 'a']\n",
      "['c', 'e', 'n', 'a', 'r']\n",
      "['c', 'o', 'm', 'e', 'r']\n"
     ]
    }
   ],
   "source": [
    "lista = [[\"c\", \"o\", \"l\", \"o\", \"r\"], [\"s\", \"a\", \"l\", \"u\", \"d\"], [\"c\", \"o\", \"s\", \"t\", \"a\"], [\"c\", \"e\", \"n\", \"a\", \"r\"], [\"c\", \"o\", \"m\", \"e\", \"r\"]]\n",
    "\n",
    "def imprecion_de_lista (listado):\n",
    "    for cada_letra in listado:\n",
    "        print (cada_letra)\n",
    "\n",
    "imprecion_de_lista (lista)"
   ]
  },
  {
   "cell_type": "markdown",
   "metadata": {},
   "source": [
    "## Bucles `while`"
   ]
  },
  {
   "cell_type": "code",
   "execution_count": null,
   "metadata": {},
   "outputs": [],
   "source": [
    "# while True:\n",
    "#     print(\"l\")\n",
    "\n",
    "# while False:\n",
    "#     print(\"a\")\n",
    "\n",
    "while intentos > 0:\n",
    "    print(\"x\")"
   ]
  },
  {
   "cell_type": "markdown",
   "metadata": {},
   "source": [
    "## Challenge 🤺\n",
    "\n",
    "Crear un bucle en el que se le pida al usuario ingresar una palabra e imprimirla, hasta que se le acaben los `intentos` (6)."
   ]
  },
  {
   "cell_type": "markdown",
   "metadata": {},
   "source": [
    "## Solución de Luigi 👨🏻🟢"
   ]
  },
  {
   "cell_type": "code",
   "execution_count": 1,
   "metadata": {},
   "outputs": [
    {
     "name": "stdout",
     "output_type": "stream",
     "text": [
      "te quedan 6 intentos\n",
      "te quedan 5 intentos\n",
      "te quedan 4 intentos\n",
      "te quedan 3 intentos\n",
      "te quedan 2 intentos\n",
      "te quedan 1 intentos\n"
     ]
    }
   ],
   "source": [
    "intentos = 6\n",
    "while intentos > 0:\n",
    "    print(\"te quedan \" + str(intentos) + \" intentos\")\n",
    "    palabra_ingresada = input(\"Ingresa una palabra\")\n",
    "    intentos = intentos - 1"
   ]
  },
  {
   "cell_type": "markdown",
   "metadata": {},
   "source": [
    "# Solución de Mayra 🧘‍♀️"
   ]
  },
  {
   "cell_type": "code",
   "execution_count": 2,
   "metadata": {},
   "outputs": [
    {
     "name": "stdout",
     "output_type": "stream",
     "text": [
      "Vuelva a intentarlo\n",
      "Te quedan 5 intentos.\n",
      "Vuelva a intentarlo\n",
      "Te quedan 4 intentos.\n",
      "Ganaste!\n"
     ]
    }
   ],
   "source": [
    "intentos = 6\n",
    "\n",
    "while intentos > 0:\n",
    "    intentos = intentos - 1 # Se crea un bucle en la variable intentos para que se ejecute mientras la resta sea mayor a 0.\n",
    "    palabra = input(\"Ingrese su respuesta:\")\n",
    "    if palabra != \"mayra\":\n",
    "        print(\"Vuelva a intentarlo\")\n",
    "        print(\"Te quedan\", intentos ,\"intentos.\")\n",
    "    else:\n",
    "        print(\"Ganaste!\")\n",
    "        break"
   ]
  },
  {
   "cell_type": "code",
   "execution_count": 3,
   "metadata": {},
   "outputs": [
    {
     "name": "stdout",
     "output_type": "stream",
     "text": [
      "['h', '(o)', '[l]', 'i', 's']\n",
      "Vuelva a intentarlo\n",
      "Te quedan 5 intentos.\n",
      "La palabra ingresada no tiene la cantidad de letras correcta.\n",
      " Ingresar una palabra con 5 letras.\n",
      "['h', '(o)', '[l]', 'i', 's']\n",
      "Vuelva a intentarlo\n",
      "Te quedan 4 intentos.\n",
      "['h', '(o)', '[l]', 'i', 's']\n",
      "['j', '[a]', 'j', '(a)', 'j']\n",
      "Vuelva a intentarlo\n",
      "Te quedan 3 intentos.\n",
      "['h', '(o)', '[l]', 'i', 's']\n",
      "['j', '[a]', 'j', '(a)', 'j']\n",
      "['[c]', '[a]', '[l]', 'm', '(a)']\n",
      "Vuelva a intentarlo\n",
      "Te quedan 2 intentos.\n",
      "['h', '(o)', '[l]', 'i', 's']\n",
      "['j', '[a]', 'j', '(a)', 'j']\n",
      "['[c]', '[a]', '[l]', 'm', '(a)']\n",
      "['[c]', '[a]', '[l]', '[o]', '[r]']\n",
      "Ganaste!\n"
     ]
    }
   ],
   "source": [
    "# Todos los créditos a Mayra 🤸🧘‍♀️\n",
    "\n",
    "# Definir cuantas letras va a tener la palabra\n",
    "cantidad_de_letras_de_la_palabra_a_encontrar = 5\n",
    "\n",
    "# Definimos nuestra palabra a encontrar\n",
    "palabra_a_encontrar = \"calor\"\n",
    "\n",
    "# Crear nuestra lista que va a contener otras listas dentro\n",
    "grilla = []\n",
    "\n",
    "# Definir la cantidad de intentos\n",
    "intentos = 6\n",
    "\n",
    "# Creamos nuestra función para verfiicar las opciones del juego\n",
    "def obtener_la_fila_verificada(palabra_a_encontrar, palabra_ingresada):\n",
    "    # creamos la lista que va a contener nuestro resultado\n",
    "    resultado = []\n",
    "\n",
    "    # Creamos la lista de letras en la palabra a encontrar\n",
    "    letras_de_la_palabra_a_encontrar = list(palabra_a_encontrar)\n",
    "\n",
    "    # Creamos la lista de letras de la palabra ingresada\n",
    "    letras_de_la_palabra_ingresada = list(palabra_ingresada)\n",
    "\n",
    "    # Iteramos en cada posición de ambas listas\n",
    "    for posicion_de_la_letra in range(cantidad_de_letras_de_la_palabra_a_encontrar):\n",
    "        # Verificamos si las letras en la misma posición son iguales\n",
    "        las_letras_son_iguales = letras_de_la_palabra_a_encontrar[posicion_de_la_letra] == letras_de_la_palabra_ingresada[posicion_de_la_letra]\n",
    "\n",
    "        # Verificamos si la letra existe en la palabra\n",
    "        la_letra_existe_en_la_palabra = letras_de_la_palabra_ingresada[posicion_de_la_letra] in palabra_a_encontrar\n",
    "\n",
    "        if las_letras_son_iguales:\n",
    "            # Guardar las letras que estan en la palabra a encontrar y coinciden en la posición entre []\n",
    "            letra_modificada = '[' + letras_de_la_palabra_ingresada[posicion_de_la_letra] + ']'\n",
    "            resultado.append(letra_modificada)\n",
    "        elif la_letra_existe_en_la_palabra:\n",
    "\n",
    "            letra_modificada = '(' + letras_de_la_palabra_ingresada[posicion_de_la_letra] + ')'\n",
    "            resultado.append(letra_modificada)\n",
    "        else:\n",
    "            resultado.append(letras_de_la_palabra_ingresada[posicion_de_la_letra])\n",
    "        \n",
    "    return resultado\n",
    "\n",
    "# Creamos nuestra función de imprimir grilla\n",
    "def imprimir_grilla(grilla):\n",
    "    cantidad_de_filas = len(grilla)\n",
    "\n",
    "    for fila in range(cantidad_de_filas):\n",
    "        print(grilla[fila])\n",
    "\n",
    "# Iniciar nuestro juego\n",
    "while intentos > 0:\n",
    "    intentos = intentos - 1 # Se crea un bucle en la variable intentos para que se ejecute mientras la resta sea mayor a 0.\n",
    "\n",
    "    palabra_ingresada = input(\"Ingrese su respuesta:\")\n",
    "    \n",
    "    letras_de_la_palabra_a_encontrar = list(palabra_a_encontrar)\n",
    "    letras_de_la_palabra_ingresada = list(palabra_ingresada)\n",
    "\n",
    "    if len(palabra_ingresada) != cantidad_de_letras_de_la_palabra_a_encontrar:\n",
    "        print(\"La palabra ingresada no tiene la cantidad de letras correcta.\")\n",
    "        print(\" Ingresar una palabra con\", cantidad_de_letras_de_la_palabra_a_encontrar, \"letras.\")\n",
    "    else:\n",
    "        linea_verificada = obtener_la_fila_verificada(palabra_a_encontrar, palabra_ingresada)\n",
    "        grilla.append(linea_verificada)\n",
    "\n",
    "    imprimir_grilla(grilla)\n",
    "    \n",
    "    if palabra_ingresada != palabra_a_encontrar:\n",
    "        print(\"Vuelva a intentarlo\")\n",
    "        print(\"Te quedan\", intentos ,\"intentos.\")\n",
    "    else:\n",
    "        print(\"Ganaste!\")\n",
    "        break"
   ]
  },
  {
   "cell_type": "markdown",
   "metadata": {},
   "source": [
    "## Diccionarios"
   ]
  },
  {
   "cell_type": "code",
   "execution_count": 5,
   "metadata": {},
   "outputs": [
    {
     "name": "stdout",
     "output_type": "stream",
     "text": [
      "97311111\n",
      "{'nombre': 'Gaby', 'apellido': 'Britez', 'telefono': 97311111, 'whatsapp': True}\n"
     ]
    }
   ],
   "source": [
    "lista = [\"manu\", True, 12939]\n",
    "\n",
    "lista[0] # manu\n",
    "\n",
    "lista[1] # ana\n",
    "\n",
    "mi_contacto_1 = {\n",
    "    \"nombre\": \"Fer\",\n",
    "    \"apellido\": \"Mellone\",\n",
    "    \"telefono\": 973830182\n",
    "}\n",
    "\n",
    "mi_contacto_2 = {\n",
    "    \"nombre\": \"Ana\",\n",
    "    \"apellido\": \"Britez\",\n",
    "    \"telefono\": 97311111,\n",
    "    \"whatsapp\": True\n",
    "}\n",
    "\n",
    "print(mi_contacto_2[\"telefono\"])\n",
    "\n",
    "mi_contacto_2[\"nombre\"] = \"Gaby\"\n",
    "\n",
    "print(mi_contacto_2)\n",
    "\n",
    "\n"
   ]
  },
  {
   "cell_type": "markdown",
   "metadata": {},
   "source": [
    "## Challenge de Steven 🤺👑\n",
    "Crear un diccionario de datos personales que incluya.\n",
    "- Nombre\n",
    "- Celular\n",
    "- Hobbie\n",
    "\n",
    "Imprimir: Hola soy {nombre} y me gusta {hobbie}"
   ]
  },
  {
   "cell_type": "code",
   "execution_count": null,
   "metadata": {},
   "outputs": [],
   "source": [
    "mi_contacto_2 = {\n",
    "    \"nombre\": \"Ana\",\n",
    "    \"apellido\": \"Britez\",\n",
    "    \"telefono\": 97311111,\n",
    "    \"whatsapp\": True\n",
    "}"
   ]
  },
  {
   "cell_type": "code",
   "execution_count": 6,
   "metadata": {},
   "outputs": [
    {
     "name": "stdout",
     "output_type": "stream",
     "text": [
      "Hola soy Amanda y me gusta correr\n"
     ]
    }
   ],
   "source": [
    "mis_datos = {\n",
    "    \"nombre\": \"Amanda\",\n",
    "    \"celular\": 9999999,\n",
    "    \"hobbie\": \"correr\"\n",
    "}\n",
    "\n",
    "print(\"Hola soy\", mis_datos[\"nombre\"], \"y me gusta\", mis_datos[\"hobbie\"])"
   ]
  },
  {
   "cell_type": "code",
   "execution_count": null,
   "metadata": {},
   "outputs": [],
   "source": []
  }
 ],
 "metadata": {
  "interpreter": {
   "hash": "aee8b7b246df8f9039afb4144a1f6fd8d2ca17a180786b69acc140d282b71a49"
  },
  "kernelspec": {
   "display_name": "Python 3.10.4 64-bit",
   "language": "python",
   "name": "python3"
  },
  "language_info": {
   "codemirror_mode": {
    "name": "ipython",
    "version": 3
   },
   "file_extension": ".py",
   "mimetype": "text/x-python",
   "name": "python",
   "nbconvert_exporter": "python",
   "pygments_lexer": "ipython3",
   "version": "3.10.4"
  },
  "orig_nbformat": 4
 },
 "nbformat": 4,
 "nbformat_minor": 2
}
