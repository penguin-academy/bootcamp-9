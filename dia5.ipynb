{
 "cells": [
  {
   "cell_type": "markdown",
   "metadata": {},
   "source": [
    "# Diccionarios"
   ]
  },
  {
   "cell_type": "code",
   "execution_count": 11,
   "metadata": {},
   "outputs": [
    {
     "name": "stdout",
     "output_type": "stream",
     "text": [
      "{'nombre': 'Juanito', 'barrio': 'Recoleta'}\n"
     ]
    }
   ],
   "source": [
    "contacto = {\n",
    "    \"nombre\": \"Juan\",\n",
    "    \"apellido\": \"Perez\"\n",
    "}\n",
    "\n",
    "# print(contacto[\"nombre\"])\n",
    "\n",
    "# print(contacto.keys())\n",
    "\n",
    "# print(contacto.values())\n",
    "\n",
    "# print(contacto.items())\n",
    "\n",
    "contacto[\"nombre\"] = \"Juanito\"\n",
    "\n",
    "# print(contacto)\n",
    "\n",
    "contacto[\"barrio\"] = \"Recoleta\"\n",
    "\n",
    "# print(contacto)\n",
    "\n",
    "contacto.popitem()\n",
    "\n",
    "# print(contacto)\n",
    "\n",
    "del contacto[\"apellido\"]\n",
    "\n",
    "print(contacto)\n"
   ]
  },
  {
   "cell_type": "markdown",
   "metadata": {},
   "source": [
    "## Challenge 1 🤺\n",
    "\n",
    "Escribir un programa que cree un diccionario vacío y lo vaya llenado con información sobre una persona (por ejemplo nombre, edad, sexo, teléfono, correo electrónico, etc.) que se le pida al usuario. Cada vez que se añada un nuevo dato debe imprimirse el contenido del diccionario."
   ]
  },
  {
   "cell_type": "markdown",
   "metadata": {},
   "source": [
    "## Solución de Jannick 🧙‍♀️"
   ]
  },
  {
   "cell_type": "code",
   "execution_count": 12,
   "metadata": {},
   "outputs": [
    {
     "name": "stdout",
     "output_type": "stream",
     "text": [
      "{'nombre': 'Fer', 'edad': '29', 'sexo': 'bichota', 'telefono': '123123', 'correo': 'a@b.com'}\n"
     ]
    }
   ],
   "source": [
    "informacion_persona = {}\n",
    "\n",
    "def ingresar_dato(dato):\n",
    "    dato_ingresado = input(\"Ingrese su: \"+ dato)\n",
    "    informacion_persona [dato] = dato_ingresado\n",
    "\n",
    "ingresar_dato(\"nombre\")\n",
    "ingresar_dato(\"edad\")\n",
    "ingresar_dato(\"sexo\")\n",
    "ingresar_dato(\"telefono\")\n",
    "ingresar_dato(\"correo\")\n",
    "\n",
    "print(informacion_persona)"
   ]
  },
  {
   "cell_type": "markdown",
   "metadata": {},
   "source": [
    "## Solución de Arza 🥋"
   ]
  },
  {
   "cell_type": "code",
   "execution_count": 14,
   "metadata": {},
   "outputs": [
    {
     "name": "stdout",
     "output_type": "stream",
     "text": [
      "Fer\n",
      "18\n",
      "trichota\n",
      "123123\n",
      "a@b.com\n",
      "{'nombre': 'Fer', 'edad': '18', 'sexo': 'trichota', 'teléfono': '123123', 'email': 'a@b.com'}\n"
     ]
    }
   ],
   "source": [
    "diccionario={\n",
    "}\n",
    "\n",
    "diccionario[\"nombre\"]=input(\"Ingrese su nombre: \") \n",
    "diccionario[\"edad\"]=input(\"Ingrese su edad: \")\n",
    "diccionario[\"sexo\"]=input(\"Indique su sexo: \")\n",
    "diccionario[\"teléfono\"]=input(\"Ingrese su número de teléfono: \")\n",
    "diccionario[\"email\"]=input(\"Ingrese su correco electrónico: \")\n",
    "print(diccionario [\"nombre\"])\n",
    "print(diccionario [\"edad\"])\n",
    "print(diccionario [\"sexo\"])\n",
    "print(diccionario [\"teléfono\"])\n",
    "print(diccionario [\"email\"])\n",
    "\n",
    "print(diccionario)\n"
   ]
  },
  {
   "cell_type": "markdown",
   "metadata": {},
   "source": [
    "## Solución de Monchi 🧢"
   ]
  },
  {
   "cell_type": "code",
   "execution_count": 15,
   "metadata": {},
   "outputs": [
    {
     "name": "stdout",
     "output_type": "stream",
     "text": [
      "nombre Fer\n",
      "edad 18\n",
      "barrio Villa Morra\n",
      "asd asd\n",
      "asd asd\n",
      "asd asd\n"
     ]
    }
   ],
   "source": [
    "Datos_personales = {}\n",
    "limite_de_datos = 0\n",
    "\n",
    "\n",
    "while limite_de_datos <= 5:\n",
    "    clave = input(\"Que dato desea ingresar?\")\n",
    "    valor = input('ingrese el dato \"'+ clave+'\":')\n",
    "\n",
    "    Datos_personales[clave] = valor\n",
    "    print(Datos_personales)\n",
    "    limite_de_datos += 1"
   ]
  },
  {
   "cell_type": "markdown",
   "metadata": {},
   "source": [
    "## Challenge 2 🤺\n",
    "\n",
    "Crear una tarjeta personal. El usuario (mediante `input`) puede elegir:\n",
    "\n",
    "1. Crear datos nuevos\n",
    "2. Modificar datos\n",
    "3. Eliminar datos"
   ]
  },
  {
   "cell_type": "markdown",
   "metadata": {},
   "source": [
    "## Solución Pilar 🔴 y Gaby 🔵"
   ]
  },
  {
   "cell_type": "code",
   "execution_count": 18,
   "metadata": {},
   "outputs": [
    {
     "name": "stdout",
     "output_type": "stream",
     "text": [
      "{'nombre': 'steven', 'c.i.': 2864862, 'sexo': 'si'}\n"
     ]
    }
   ],
   "source": [
    "Tarjeta = {\n",
    "    \"nombre\" : \"nombre\",\n",
    "    \"c.i.\" : 2864862,\n",
    "    \"sexo\" : \"si\"\n",
    "}\n",
    "while True:\n",
    "    datos = input(\"1.Crear Datos 2. Modificar 3. Eliminar Datos 4.Salir\")\n",
    "    if datos == \"1\":\n",
    "        clave = input (\"Que dato desea ingresar?\")\n",
    "        valor = input (\"ingrese el dato\")\n",
    "        Tarjeta [clave] = valor \n",
    "        print (Tarjeta)\n",
    "    elif datos == \"2\": \n",
    "        clave_cambiado = input (\"Que dato desea modificar?\")\n",
    "        valor_cambiado = input (\"ingrese el dato\")\n",
    "        Tarjeta[clave_cambiado] = valor_cambiado\n",
    "        print (Tarjeta)\n",
    "    elif datos == \"3\": \n",
    "        clave_eliminada = input (\"Que dato desea eliminar?\") \n",
    "        del Tarjeta [clave_eliminada]\n",
    "        print (Tarjeta)\n",
    "    else:\n",
    "        break"
   ]
  },
  {
   "cell_type": "markdown",
   "metadata": {},
   "source": [
    "## Orientación a Objetos\n",
    "## Programación orientada a objetos"
   ]
  },
  {
   "cell_type": "markdown",
   "metadata": {},
   "source": [
    "## Clases"
   ]
  },
  {
   "cell_type": "code",
   "execution_count": null,
   "metadata": {},
   "outputs": [],
   "source": [
    "# Creando una clase vacía\n",
    "class Penguin:\n",
    "    pass\n",
    "\n",
    "mi_pinguin = Penguin()"
   ]
  },
  {
   "cell_type": "markdown",
   "metadata": {},
   "source": [
    "## Definiendo atributos"
   ]
  },
  {
   "cell_type": "code",
   "execution_count": 21,
   "metadata": {},
   "outputs": [
    {
     "name": "stdout",
     "output_type": "stream",
     "text": [
      "Creando pingüino: 'Steven', Rey\n",
      "Steven\n"
     ]
    }
   ],
   "source": [
    "class Penguin:\n",
    "    # Definiendo un atributo de clase\n",
    "    clase = \"Ave\"\n",
    "    cantidad_de_patas = 2\n",
    "\n",
    "    def __init__(self, nombre, especie):\n",
    "        print(\"Creando pingüino: \" + \"'\" + nombre + \"', \" + especie)\n",
    "\n",
    "        # Atributos de instancia\n",
    "        self.nombre = nombre\n",
    "        self.especie = especie\n",
    "\n",
    "mi_pinguino = Penguin(\"Steven\", \"Rey\")\n",
    "ana = Penguin(\"Ana\", \"Contadora\")\n",
    "jose1 = Penguin(\"Jose\", \"Desconocido\")\n",
    "\n",
    "\n",
    "# print(type(mi_pinguino))\n",
    "\n",
    "# print(Penguin.clase)\n",
    "\n",
    "print(mi_pinguino.especie)"
   ]
  },
  {
   "cell_type": "code",
   "execution_count": 33,
   "metadata": {},
   "outputs": [
    {
     "name": "stdout",
     "output_type": "stream",
     "text": [
      "se creó un smartphone del modelo y5 - True\n",
      "se creó un smartphone del modelo y7 - True\n"
     ]
    }
   ],
   "source": [
    "# Smartphone\n",
    "\n",
    "class Smartphone:\n",
    "    # Atributos de clase\n",
    "    pantalla = True\n",
    "    wifi = True\n",
    "    bateria = True\n",
    "    camara = True\n",
    "\n",
    "    def __init__(self, cantidad_de_camaras_ingresada, modelo_ingresado):\n",
    "        # Atributos de instancia\n",
    "        self.cantidad_de_camaras = cantidad_de_camaras_ingresada\n",
    "        self.modelo = modelo_ingresado\n",
    "        print(\"se creó un smartphone del modelo \" + modelo_ingresado)\n",
    "\n",
    "\n",
    "huawei_y5 = Smartphone(1, 'y5')\n",
    "huawei_y7 = Smartphone(4, 'y7')\n"
   ]
  },
  {
   "cell_type": "markdown",
   "metadata": {},
   "source": [
    "## Challenge 🤺\n",
    "\n",
    "Crear dos `class` de animales que tengan atributos de instancia y de clase.\n",
    "\n",
    "- Atributo de instancia: `nombre` & `color`.\n",
    "- Atributo de clase: `especie`.\n",
    "\n",
    "Luego, crear nuevos objetos a partir de las nuevas `class`. Imprimir el `nombre` y el `color` de los animales en una frase que diga: \"Me llamo Alex{nombre} y soy un ave{especie} de color blanco{color}\"."
   ]
  },
  {
   "cell_type": "markdown",
   "metadata": {},
   "source": [
    "## Solución de Silvi 🤓\n"
   ]
  },
  {
   "cell_type": "code",
   "execution_count": 34,
   "metadata": {},
   "outputs": [
    {
     "name": "stdout",
     "output_type": "stream",
     "text": [
      "Me llamo michi y soy un michuno de color blanco\n",
      "Me llamo sushi y soy un nadador de color salmon por dentro\n"
     ]
    }
   ],
   "source": [
    "class Gato:\n",
    "    especie = \"michuno\"\n",
    "\n",
    "    def init(self, nombre_ingresado , color_ingresado):\n",
    "        self.nombre = nombre_ingresado\n",
    "        self.color = color_ingresado\n",
    "        print(\"Me llamo \"+ nombre_ingresado + \" y soy un \" + self.especie +\" de color \"+ self.color )\n",
    "\n",
    "gato_callejero = Gato(\"michi\",\"blanco\")\n",
    "#gato_hogareño = Gato(\"Nissa\",\"Atigrada\")\n",
    "\n",
    "class Pescado:\n",
    "    especie = \"nadador\"\n",
    "\n",
    "    def init(self , nombre_ingresado , color_ingresado):\n",
    "        self.nombre = nombre_ingresado\n",
    "        self.color = color_ingresado\n",
    "        print(\"Me llamo \"+ self.nombre + \" y soy un \" + self.especie +\" de color \"+ self.color )\n",
    "\n",
    "pira = Pescado(\"sushi\",\"salmon por dentro\")"
   ]
  },
  {
   "cell_type": "markdown",
   "metadata": {},
   "source": [
    "## Solución Kou 🥫"
   ]
  },
  {
   "cell_type": "code",
   "execution_count": null,
   "metadata": {},
   "outputs": [],
   "source": [
    "class pokemon:\n",
    "    alas = True\n",
    "    pico = True\n",
    "    ojos = 2\n",
    "\n",
    "    def __init__(self,tipo1, tipo2):\n",
    "        self.tipo1 = tipo1\n",
    "        self.tipo2 = tipo2\n",
    "\n",
    "\n",
    "\n",
    "piggeotto = pokemon(\"volador\", \"normal\")\n",
    "\n",
    "print(\"capturaste un Piggeoto de tipo\",piggeotto.tipo1, piggeotto.tipo2)"
   ]
  },
  {
   "cell_type": "code",
   "execution_count": 36,
   "metadata": {},
   "outputs": [
    {
     "name": "stdout",
     "output_type": "stream",
     "text": [
      "Me llemo Dr.octopus y soy un aracnido de color negro\n",
      "Me llemo ti rex🐱‍🐉😊 y soy un reptil extinguido, soy de color verde esmeralda\n"
     ]
    }
   ],
   "source": [
    "class animal:\n",
    "    especie = \"aracnido\"\n",
    "\n",
    "    def __init__ (self,nombre, color):\n",
    "        self.nombre = nombre\n",
    "        self.color = color \n",
    "        print(\"Me llemo\", nombre, \"y soy un\", self.especie, \"de color\", color)\n",
    "viuda_negra = animal (\"Dr.octopus\", \"negro\")\n",
    "\n",
    "class animal:\n",
    "    especie = \"reptil\"\n",
    "\n",
    "    def __init__(self,nombre, color):\n",
    "        self.nombre = nombre\n",
    "        self.color = color \n",
    "        print(\"Me llemo\", self.nombre, \"y soy un\", self.especie,\"extinguido,\", \"soy de color\", self.color)\n",
    "ti_rex= animal (\"ti rex🐱‍🐉😊\", \"verde esmeralda\")"
   ]
  },
  {
   "cell_type": "markdown",
   "metadata": {},
   "source": [
    "# Métodos"
   ]
  },
  {
   "cell_type": "code",
   "execution_count": 45,
   "metadata": {},
   "outputs": [
    {
     "name": "stdout",
     "output_type": "stream",
     "text": [
      "zzzzzz en el sofa\n",
      "True\n",
      "woof guau\n"
     ]
    }
   ],
   "source": [
    "class Perro:\n",
    "    ojos = 2\n",
    "    patas = 4\n",
    "    esta_dormido = False\n",
    "\n",
    "    def __init__(self, nombre_ingresado):\n",
    "        self.nombre = nombre_ingresado\n",
    "\n",
    "    def dormir(self):\n",
    "        self.esta_dormido = True\n",
    "        print(\"zzzzzz \")\n",
    "\n",
    "    def despertarse(self):\n",
    "        self.esta_dormido = False\n",
    "        print(\"*bosteza*\")\n",
    "\n",
    "    def ladrar(self):\n",
    "        self.despertarse()\n",
    "        print(\"woof guau\")\n",
    "\n",
    "pupi1 = Perro(\"Pepe\")\n",
    "\n",
    "# pupi1.ladrar()\n",
    "\n",
    "pupi1.dormir(\"en el sofa\")\n",
    "\n",
    "print(pupi1.esta_dormido)\n",
    "\n",
    "pupi1.ladrar()"
   ]
  },
  {
   "cell_type": "markdown",
   "metadata": {},
   "source": [
    "## Challenge 🤺\n",
    "\n",
    "Crear dos métodos por animal, que sea `hablar` y `moverse`. \n",
    "\n",
    "- En el método `hablar`, imprimir: \"Cuando hablo, digo X\".\n",
    "- En el método `mover`, imprimir: \"Cuando me muevo, hago X\"."
   ]
  },
  {
   "cell_type": "markdown",
   "metadata": {},
   "source": [
    "## Solución de Amanda 🎂"
   ]
  },
  {
   "cell_type": "code",
   "execution_count": 46,
   "metadata": {},
   "outputs": [
    {
     "name": "stdout",
     "output_type": "stream",
     "text": [
      "Hola soy Lassie\n",
      "Cuando me muevo, hago desastre\n"
     ]
    }
   ],
   "source": [
    "class Animal:\n",
    "    especie = \"mamífero\"\n",
    "    familia = \"canino\"\n",
    "\n",
    "    def __init__(self, nombre_del_perro):\n",
    "        self.nombre = nombre_del_perro\n",
    "        print(\"Hola soy\", nombre_del_perro)\n",
    "\n",
    "    def hablar(self):\n",
    "        print(\"Cuando hablo digo Purina\")\n",
    "\n",
    "    def moverse(self):\n",
    "        print(\"Cuando me muevo, hago desastre\")\n",
    "\n",
    "lassie = Animal(\"Lassie\")\n",
    "\n",
    "lassie.moverse()"
   ]
  },
  {
   "cell_type": "markdown",
   "metadata": {},
   "source": [
    "# Herencia"
   ]
  },
  {
   "cell_type": "code",
   "execution_count": 52,
   "metadata": {},
   "outputs": [
    {
     "name": "stdout",
     "output_type": "stream",
     "text": [
      "Hola soy Pupi\n",
      "vivo\n",
      "Estoy hablando\n",
      "Me mamé\n",
      "Hola soy Pancho\n",
      "vivo\n",
      "Estoy hablando\n",
      "I believe I can fly! 🎸\n"
     ]
    }
   ],
   "source": [
    "class Animal:\n",
    "    estado = \"vivo\"\n",
    "\n",
    "    def __init__(self, nombre_del_animal):\n",
    "        self.nombre = nombre_del_animal\n",
    "        print(\"Hola soy\", nombre_del_animal)\n",
    "\n",
    "    def hablar(self):\n",
    "        print(\"Estoy hablando\")\n",
    "\n",
    "    def moverse(self):\n",
    "        print(\"Me esto\")\n",
    "\n",
    "class Ave(Animal):\n",
    "    especie = \"ave\"\n",
    "    \n",
    "    def volar(self):\n",
    "        print(\"I believe I can fly! 🎸\")\n",
    "\n",
    "class Mamifero(Animal):\n",
    "    especie = \"mamífero\"\n",
    "\n",
    "    def mamar(self):\n",
    "        print(\"Me mamé\")\n",
    "\n",
    "\n",
    "perro = Mamifero(\"Pupi\")\n",
    "print(perro.estado)\n",
    "perro.hablar()\n",
    "perro.mamar()\n",
    "\n",
    "loro = Ave(\"Pancho\")\n",
    "print(loro.estado)\n",
    "loro.hablar()\n",
    "loro.volar()"
   ]
  },
  {
   "cell_type": "markdown",
   "metadata": {},
   "source": [
    "## Challenge 🤺\n",
    "\n",
    "Definir una clase madre que herede a sus clases hijas dos atributos de instancia. Mostrar ambos atributos en pantalla desde los objetos de las clases hijas.\n",
    "\n",
    "<u>Observación</u>: Editar las clases hijas para que no se inicialicen."
   ]
  },
  {
   "cell_type": "markdown",
   "metadata": {},
   "source": [
    "# Solución de Manu 🛹"
   ]
  },
  {
   "cell_type": "code",
   "execution_count": 53,
   "metadata": {},
   "outputs": [
    {
     "name": "stdout",
     "output_type": "stream",
     "text": [
      "Cuando hablo, digo miauu\n",
      "cuando me muevo, hago sprin\n"
     ]
    }
   ],
   "source": [
    "class GataMadre:\n",
    "    # Atributos de clase\n",
    "    especie = 'felino'\n",
    "\n",
    "    def __init__(self, nombre_ingresado, color_ingresado):\n",
    "        # Atributos de instancia\n",
    "        self.nombre = nombre_ingresado\n",
    "        self.color = color_ingresado\n",
    "\n",
    "    def hablar(self):\n",
    "\n",
    "        print('Cuando hablo, digo miauu')\n",
    "\n",
    "    def mover(self):\n",
    "\n",
    "        print('cuando me muevo, hago sprin')\n",
    "\n",
    "class Gatitos(GataMadre):\n",
    "\n",
    "    accion = 'llorar'\n",
    "\n",
    "\n",
    "gata_madre = GataMadre('kirara','blanco')\n",
    "\n",
    "gatito1 = Gatitos('micky','negro')\n",
    "\n",
    "gatito1.hablar()\n",
    "gatito1.mover()"
   ]
  }
 ],
 "metadata": {
  "kernelspec": {
   "display_name": "Python 3.10.4 64-bit",
   "language": "python",
   "name": "python3"
  },
  "language_info": {
   "codemirror_mode": {
    "name": "ipython",
    "version": 3
   },
   "file_extension": ".py",
   "mimetype": "text/x-python",
   "name": "python",
   "nbconvert_exporter": "python",
   "pygments_lexer": "ipython3",
   "version": "3.10.4"
  },
  "orig_nbformat": 4,
  "vscode": {
   "interpreter": {
    "hash": "aee8b7b246df8f9039afb4144a1f6fd8d2ca17a180786b69acc140d282b71a49"
   }
  }
 },
 "nbformat": 4,
 "nbformat_minor": 2
}
